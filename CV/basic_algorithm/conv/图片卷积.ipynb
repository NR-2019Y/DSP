{
 "cells": [
  {
   "cell_type": "code",
   "execution_count": 1,
   "id": "5584dc1c",
   "metadata": {},
   "outputs": [],
   "source": [
    "import numpy as np\n",
    "from scipy.signal import convolve2d\n",
    "import cv2"
   ]
  },
  {
   "cell_type": "code",
   "execution_count": 2,
   "id": "0a03a08f",
   "metadata": {},
   "outputs": [],
   "source": [
    "X = np.arange(30., dtype=np.float32).reshape(6, 5)\n",
    "W = np.array([1., 4., 7., 8., 25., 3.5, 4.1, 2.3, 5.7], dtype=np.float32).reshape(3, 3)"
   ]
  },
  {
   "cell_type": "code",
   "execution_count": 3,
   "id": "bacfb939",
   "metadata": {},
   "outputs": [],
   "source": [
    "# 卷积运算\n",
    "# 参考 github.com/sebgao/cTensor\n",
    "\n",
    "# 灰度图, ndim=2\n",
    "def conv2d(X, W):\n",
    "    ih, iw = X.shape\n",
    "    kh, kw = W.shape\n",
    "    im2col_strides = (X.strides[0], X.strides[1], X.strides[0], X.strides[1])\n",
    "    im2col_shape = (ih - kh + 1, iw - kw + 1, kh, kw)\n",
    "    xcol = np.lib.stride_tricks.as_strided(X, im2col_shape, im2col_strides, writeable=False)\n",
    "    return np.tensordot(xcol, W, axes=[[-2, -1], [0, 1]])\n",
    "\n",
    "# 多通道, ndim=3\n",
    "# (每个通道使用相同的卷积核)\n",
    "def conv2dmc(X, W):\n",
    "    ih, iw, _ = X.shape\n",
    "    kh, kw = W.shape\n",
    "    im2col_strides = (X.strides[0], X.strides[1], X.strides[0], X.strides[1], X.strides[2])\n",
    "    im2col_shape = (ih - kh + 1, iw - kw + 1, kh, kw, X.shape[-1])\n",
    "    xcol = np.lib.stride_tricks.as_strided(X, im2col_shape, im2col_strides, writeable=False)\n",
    "    return np.tensordot(xcol, W, axes=[[-3, -2], [0, 1]])\n"
   ]
  },
  {
   "cell_type": "code",
   "execution_count": 4,
   "id": "409596f6",
   "metadata": {},
   "outputs": [
    {
     "data": {
      "text/plain": [
       "array([[  34.     ,  107.     ,  155.5    ,  204.     ,  202.5    ],\n",
       "       [ 228.1    ,  360.     ,  420.6    ,  481.19998,  426.30002],\n",
       "       [ 450.1    ,  663.     ,  723.6    ,  784.2001 ,  663.8    ],\n",
       "       [ 672.1    ,  966.     , 1026.6    , 1087.2001 ,  901.3    ],\n",
       "       [ 894.1    , 1269.     , 1329.6    , 1390.2001 , 1138.7999 ],\n",
       "       [ 965.1    , 1206.     , 1254.6    , 1303.2001 , 1009.3    ]],\n",
       "      dtype=float32)"
      ]
     },
     "execution_count": 4,
     "metadata": {},
     "output_type": "execute_result"
    }
   ],
   "source": [
    "convolve2d(X, W, mode='same')"
   ]
  },
  {
   "cell_type": "code",
   "execution_count": 5,
   "id": "ab22c151",
   "metadata": {},
   "outputs": [
    {
     "data": {
      "text/plain": [
       "array([[  34. ,  107. ,  155.5,  204. ,  202.5],\n",
       "       [ 228.1,  360. ,  420.6,  481.2,  426.3],\n",
       "       [ 450.1,  663. ,  723.6,  784.2,  663.8],\n",
       "       [ 672.1,  966. , 1026.6, 1087.2,  901.3],\n",
       "       [ 894.1, 1269. , 1329.6, 1390.2, 1138.8],\n",
       "       [ 965.1, 1206. , 1254.6, 1303.2, 1009.3]], dtype=float32)"
      ]
     },
     "execution_count": 5,
     "metadata": {},
     "output_type": "execute_result"
    }
   ],
   "source": [
    "cv2.filter2D(X, -1, W[::-1, ::-1], borderType=cv2.BORDER_CONSTANT)"
   ]
  },
  {
   "cell_type": "code",
   "execution_count": 6,
   "id": "6b0292f7",
   "metadata": {},
   "outputs": [
    {
     "data": {
      "text/plain": [
       "array([[  34.     ,  107.     ,  155.5    ,  204.     ,  202.5    ],\n",
       "       [ 228.1    ,  360.     ,  420.59998,  481.19998,  426.3    ],\n",
       "       [ 450.1    ,  663.     ,  723.60004,  784.19995,  663.80005],\n",
       "       [ 672.1    ,  966.     , 1026.6001 , 1087.2001 ,  901.3    ],\n",
       "       [ 894.1    , 1269.     , 1329.6001 , 1390.2001 , 1138.8    ],\n",
       "       [ 965.1    , 1206.     , 1254.6001 , 1303.2001 , 1009.3    ]],\n",
       "      dtype=float32)"
      ]
     },
     "execution_count": 6,
     "metadata": {},
     "output_type": "execute_result"
    }
   ],
   "source": [
    "conv2d(np.pad(X, [[1, 1], [1, 1]]), W[::-1, ::-1])"
   ]
  },
  {
   "cell_type": "code",
   "execution_count": 7,
   "id": "50f238ce",
   "metadata": {},
   "outputs": [
    {
     "data": {
      "text/plain": [
       "array([[[  49.199997,   98.399994,  147.6     ],\n",
       "        [ 106.2     ,  212.4     ,  318.59998 ],\n",
       "        [ 154.79999 ,  309.59998 ,  464.4     ],\n",
       "        [ 203.40001 ,  406.80002 ,  610.19995 ],\n",
       "        [ 177.5     ,  355.      ,  532.5     ]],\n",
       "\n",
       "       [[ 238.7     ,  477.4     ,  716.1     ],\n",
       "        [ 367.19998 ,  734.39996 , 1101.6     ],\n",
       "        [ 427.80002 ,  855.60004 , 1283.3999  ],\n",
       "        [ 488.4     ,  976.8     , 1465.2001  ],\n",
       "        [ 393.5     ,  787.      , 1180.5     ]],\n",
       "\n",
       "       [[ 476.2     ,  952.4     , 1428.6     ],\n",
       "        [ 670.19995 , 1340.3999  , 2010.6     ],\n",
       "        [ 730.8     , 1461.6     , 2192.4     ],\n",
       "        [ 791.39996 , 1582.7999  , 2374.2     ],\n",
       "        [ 615.5     , 1231.      , 1846.5     ]],\n",
       "\n",
       "       [[ 713.7     , 1427.4     , 2141.1     ],\n",
       "        [ 973.19995 , 1946.3999  , 2919.5999  ],\n",
       "        [1033.8     , 2067.6     , 3101.4001  ],\n",
       "        [1094.3999  , 2188.7998  , 3283.2     ],\n",
       "        [ 837.5     , 1675.      , 2512.5     ]],\n",
       "\n",
       "       [[ 951.2     , 1902.4     , 2853.6     ],\n",
       "        [1276.2001  , 2552.4001  , 3828.5999  ],\n",
       "        [1336.7999  , 2673.5999  , 4010.4001  ],\n",
       "        [1397.3999  , 2794.7998  , 4192.2     ],\n",
       "        [1059.5     , 2119.      , 3178.5     ]],\n",
       "\n",
       "       [[ 943.      , 1886.      , 2829.      ],\n",
       "        [1202.5     , 2405.      , 3607.5     ],\n",
       "        [1251.      , 2502.      , 3753.      ],\n",
       "        [1299.5     , 2599.      , 3898.5     ],\n",
       "        [1068.      , 2136.      , 3204.      ]]], dtype=float32)"
      ]
     },
     "execution_count": 7,
     "metadata": {},
     "output_type": "execute_result"
    }
   ],
   "source": [
    "X3C = np.concatenate([\n",
    "    X[..., None], X[..., None] * 2, X[..., None] * 3\n",
    "], axis=-1)\n",
    "conv2dmc(np.pad(X3C, [[1, 1], [1, 1], [0, 0]]), W)"
   ]
  },
  {
   "cell_type": "code",
   "execution_count": 8,
   "id": "6de30649",
   "metadata": {},
   "outputs": [
    {
     "data": {
      "text/plain": [
       "array([[[  49.199997,   98.399994,  147.59999 ],\n",
       "        [ 106.200005,  212.40001 ,  318.59998 ],\n",
       "        [ 154.79999 ,  309.59998 ,  464.39996 ],\n",
       "        [ 203.4     ,  406.8     ,  610.19995 ],\n",
       "        [ 177.5     ,  355.      ,  532.5     ]],\n",
       "\n",
       "       [[ 238.7     ,  477.4     ,  716.1     ],\n",
       "        [ 367.19998 ,  734.39996 , 1101.6     ],\n",
       "        [ 427.80002 ,  855.60004 , 1283.3999  ],\n",
       "        [ 488.4     ,  976.8     , 1465.2     ],\n",
       "        [ 393.5     ,  787.      , 1180.5     ]],\n",
       "\n",
       "       [[ 476.2     ,  952.4     , 1428.6     ],\n",
       "        [ 670.2     , 1340.4     , 2010.6     ],\n",
       "        [ 730.7999  , 1461.5999  , 2192.4001  ],\n",
       "        [ 791.4     , 1582.8     , 2374.2     ],\n",
       "        [ 615.5     , 1231.      , 1846.5     ]],\n",
       "\n",
       "       [[ 713.7     , 1427.4     , 2141.1     ],\n",
       "        [ 973.2     , 1946.4     , 2919.5999  ],\n",
       "        [1033.7999  , 2067.5999  , 3101.4001  ],\n",
       "        [1094.4     , 2188.8     , 3283.2     ],\n",
       "        [ 837.5     , 1675.      , 2512.5     ]],\n",
       "\n",
       "       [[ 951.2     , 1902.4     , 2853.6     ],\n",
       "        [1276.2001  , 2552.4001  , 3828.5999  ],\n",
       "        [1336.7999  , 2673.5999  , 4010.4001  ],\n",
       "        [1397.3999  , 2794.7998  , 4192.2     ],\n",
       "        [1059.5     , 2119.      , 3178.5     ]],\n",
       "\n",
       "       [[ 943.      , 1886.      , 2829.      ],\n",
       "        [1202.5     , 2405.      , 3607.5     ],\n",
       "        [1251.      , 2502.      , 3753.      ],\n",
       "        [1299.5     , 2599.      , 3898.5     ],\n",
       "        [1068.      , 2136.      , 3204.      ]]], dtype=float32)"
      ]
     },
     "execution_count": 8,
     "metadata": {},
     "output_type": "execute_result"
    }
   ],
   "source": [
    "cv2.filter2D(X3C, -1, W, borderType=cv2.BORDER_CONSTANT)"
   ]
  },
  {
   "cell_type": "code",
   "execution_count": 9,
   "id": "c6fbe633",
   "metadata": {},
   "outputs": [
    {
     "data": {
      "text/plain": [
       "0.00024414062"
      ]
     },
     "execution_count": 9,
     "metadata": {},
     "output_type": "execute_result"
    }
   ],
   "source": [
    "np.abs(conv2dmc(np.pad(X3C, [[1, 1], [1, 1], [0, 0]]), W) - cv2.filter2D(X3C, -1, W, borderType=cv2.BORDER_CONSTANT)).max()"
   ]
  },
  {
   "cell_type": "code",
   "execution_count": null,
   "id": "a25beff6",
   "metadata": {},
   "outputs": [],
   "source": []
  }
 ],
 "metadata": {
  "kernelspec": {
   "display_name": "Python 3 (ipykernel)",
   "language": "python",
   "name": "python3"
  },
  "language_info": {
   "codemirror_mode": {
    "name": "ipython",
    "version": 3
   },
   "file_extension": ".py",
   "mimetype": "text/x-python",
   "name": "python",
   "nbconvert_exporter": "python",
   "pygments_lexer": "ipython3",
   "version": "3.7.15"
  }
 },
 "nbformat": 4,
 "nbformat_minor": 5
}
